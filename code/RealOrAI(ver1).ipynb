{
 "cells": [
  {
   "cell_type": "code",
   "execution_count": 14,
   "metadata": {},
   "outputs": [
    {
     "name": "stdout",
     "output_type": "stream",
     "text": [
      "Requirement already satisfied: kaggle in c:\\users\\admin\\appdata\\local\\programs\\python\\python310\\lib\\site-packages (1.7.4.5)Note: you may need to restart the kernel to use updated packages.\n",
      "\n",
      "Requirement already satisfied: protobuf in c:\\users\\admin\\appdata\\local\\programs\\python\\python310\\lib\\site-packages (from kaggle) (6.30.2)\n",
      "Requirement already satisfied: bleach in c:\\users\\admin\\appdata\\local\\programs\\python\\python310\\lib\\site-packages (from kaggle) (6.2.0)\n",
      "Requirement already satisfied: urllib3>=1.15.1 in c:\\users\\admin\\appdata\\local\\programs\\python\\python310\\lib\\site-packages (from kaggle) (2.4.0)\n",
      "Requirement already satisfied: certifi>=14.05.14 in c:\\users\\admin\\appdata\\local\\programs\\python\\python310\\lib\\site-packages (from kaggle) (2025.4.26)\n",
      "Requirement already satisfied: charset-normalizer in c:\\users\\admin\\appdata\\local\\programs\\python\\python310\\lib\\site-packages (from kaggle) (3.4.2)\n",
      "Requirement already satisfied: six>=1.10 in c:\\users\\admin\\appdata\\roaming\\python\\python310\\site-packages (from kaggle) (1.16.0)\n",
      "Requirement already satisfied: text-unidecode in c:\\users\\admin\\appdata\\local\\programs\\python\\python310\\lib\\site-packages (from kaggle) (1.3)\n",
      "Requirement already satisfied: idna in c:\\users\\admin\\appdata\\local\\programs\\python\\python310\\lib\\site-packages (from kaggle) (3.10)\n",
      "Requirement already satisfied: webencodings in c:\\users\\admin\\appdata\\local\\programs\\python\\python310\\lib\\site-packages (from kaggle) (0.5.1)\n",
      "Requirement already satisfied: requests in c:\\users\\admin\\appdata\\local\\programs\\python\\python310\\lib\\site-packages (from kaggle) (2.32.3)\n",
      "Requirement already satisfied: setuptools>=21.0.0 in c:\\users\\admin\\appdata\\local\\programs\\python\\python310\\lib\\site-packages (from kaggle) (65.5.0)\n",
      "Requirement already satisfied: python-slugify in c:\\users\\admin\\appdata\\local\\programs\\python\\python310\\lib\\site-packages (from kaggle) (8.0.4)\n",
      "Requirement already satisfied: tqdm in c:\\users\\admin\\appdata\\local\\programs\\python\\python310\\lib\\site-packages (from kaggle) (4.67.1)\n",
      "Requirement already satisfied: python-dateutil>=2.5.3 in c:\\users\\admin\\appdata\\roaming\\python\\python310\\site-packages (from kaggle) (2.9.0.post0)\n",
      "Requirement already satisfied: colorama in c:\\users\\admin\\appdata\\roaming\\python\\python310\\site-packages (from tqdm->kaggle) (0.4.6)\n"
     ]
    },
    {
     "name": "stderr",
     "output_type": "stream",
     "text": [
      "\n",
      "[notice] A new release of pip available: 22.3.1 -> 25.1.1\n",
      "[notice] To update, run: python.exe -m pip install --upgrade pip\n"
     ]
    }
   ],
   "source": [
    "%pip install kaggle"
   ]
  },
  {
   "cell_type": "code",
   "execution_count": 22,
   "metadata": {},
   "outputs": [
    {
     "name": "stdout",
     "output_type": "stream",
     "text": [
      "Collecting PillowNote: you may need to restart the kernel to use updated packages.\n",
      "\n",
      "  Downloading pillow-11.2.1-cp310-cp310-win_amd64.whl (2.7 MB)\n",
      "     ---------------------------------------- 2.7/2.7 MB 7.7 MB/s eta 0:00:00\n",
      "Installing collected packages: Pillow\n",
      "Successfully installed Pillow-11.2.1\n"
     ]
    },
    {
     "name": "stderr",
     "output_type": "stream",
     "text": [
      "\n",
      "[notice] A new release of pip available: 22.3.1 -> 25.1.1\n",
      "[notice] To update, run: python.exe -m pip install --upgrade pip\n"
     ]
    }
   ],
   "source": [
    "pip install Pillow"
   ]
  },
  {
   "cell_type": "code",
   "execution_count": 17,
   "metadata": {},
   "outputs": [],
   "source": [
    "import os\n",
    "os.environ['KAGGLE_CONFIG_DIR'] = r'C:\\2025_Python\\RealOrAI\\.kaggle'"
   ]
  },
  {
   "cell_type": "code",
   "execution_count": 19,
   "metadata": {},
   "outputs": [],
   "source": [
    "import zipfile\n",
    "\n",
    "with zipfile.ZipFile(\"real-ai-art.zip\", 'r') as zip_ref:\n",
    "    zip_ref.extractall(\"real_ai_art\")"
   ]
  },
  {
   "cell_type": "markdown",
   "metadata": {},
   "source": [
    "### 전체 이미지 경로와 라벨 불러오기 코드"
   ]
  },
  {
   "cell_type": "code",
   "execution_count": 35,
   "metadata": {},
   "outputs": [],
   "source": [
    "import numpy as np\n",
    "from PIL import Image\n",
    "\n",
    "train_root = r'C:\\2025_Python\\RealOrAI\\real_ai_art\\Real_AI_SD_LD_Dataset\\train'\n",
    "test_root = r'C:\\2025_Python\\RealOrAI\\real_ai_art\\Real_AI_SD_LD_Dataset\\test'\n",
    "\n",
    "# 전체 폴더 이름 가져오기\n",
    "style_folders = os.listdir(train_root)\n",
    "\n",
    "image_paths = []\n",
    "labels = []\n",
    "\n",
    "for folder in style_folders:\n",
    "    folder_path = os.path.join(train_root, folder)\n",
    "    if not os.path.isdir(folder_path):\n",
    "        continue  # 혹시 파일이 섞여 있다면 무시\n",
    "\n",
    "    # 폴더 내 이미지 경로 수집\n",
    "    for fname in os.listdir(folder_path):\n",
    "        if fname.lower().endswith(('.jpg', '.png', '.jpeg')):\n",
    "            image_paths.append(os.path.join(folder_path, fname))\n",
    "            # 라벨: 폴더 이름에 AI가 있으면 1, 아니면 0\n",
    "            label = 1 if 'AI' in folder else 0\n",
    "            labels.append(label)"
   ]
  }
 ],
 "metadata": {
  "kernelspec": {
   "display_name": "Python 3",
   "language": "python",
   "name": "python3"
  },
  "language_info": {
   "codemirror_mode": {
    "name": "ipython",
    "version": 3
   },
   "file_extension": ".py",
   "mimetype": "text/x-python",
   "name": "python",
   "nbconvert_exporter": "python",
   "pygments_lexer": "ipython3",
   "version": "3.10.10"
  }
 },
 "nbformat": 4,
 "nbformat_minor": 2
}
